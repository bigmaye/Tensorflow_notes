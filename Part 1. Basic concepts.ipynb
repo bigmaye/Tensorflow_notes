{
 "cells": [
  {
   "cell_type": "code",
   "execution_count": null,
   "metadata": {
    "collapsed": true
   },
   "outputs": [],
   "source": [
    "import tensorflow as tf"
   ]
  },
  {
   "cell_type": "code",
   "execution_count": null,
   "metadata": {
    "collapsed": true
   },
   "outputs": [],
   "source": [
    "tensor_example = tf.constant([2.0, 5.0, 6.0, 7.0], shape=[2, 2])"
   ]
  },
  {
   "cell_type": "code",
   "execution_count": null,
   "metadata": {
    "collapsed": true
   },
   "outputs": [],
   "source": [
    "# It is a Tensor\n",
    "print tensor_example\n",
    "# out: Tensor(\"Const:0\", shape=(2, 2), dtype=float32)"
   ]
  },
  {
   "cell_type": "code",
   "execution_count": null,
   "metadata": {
    "collapsed": true
   },
   "outputs": [],
   "source": [
    "# get the Graph the tensor belongs\n",
    "print tensor_example.graph \n",
    "# out: <tensorflow.python.framework.ops.Graph object at 0x2b25e90>"
   ]
  },
  {
   "cell_type": "code",
   "execution_count": null,
   "metadata": {
    "collapsed": true
   },
   "outputs": [],
   "source": [
    "print tf.get_default_graph()\n",
    "# out: <tensorflow.python.framework.ops.Graph object at 0x2b25e90>\n",
    "\n",
    "# the Graph which tensor a belongs is the Default graph\n",
    "assert tensor_example.graph is tf.get_default_graph()"
   ]
  },
  {
   "cell_type": "code",
   "execution_count": null,
   "metadata": {
    "collapsed": true
   },
   "outputs": [],
   "source": [
    "# get the operation name\n",
    "print tensor_example.op.name\n",
    "# out: Const"
   ]
  },
  {
   "cell_type": "code",
   "execution_count": null,
   "metadata": {
    "collapsed": true
   },
   "outputs": [],
   "source": [
    "# get the tensor shape\n",
    "print tensor_example.get_shape()\n",
    "# out: (2, 2)\n",
    "print tensor_example.get_shape().as_list()\n",
    "# out: [2, 2]"
   ]
  },
  {
   "cell_type": "code",
   "execution_count": null,
   "metadata": {
    "collapsed": true
   },
   "outputs": [],
   "source": [
    "# new a graph\n",
    "graph_example = tf.Graph()\n",
    "\n",
    "# start the session using the new graph\n",
    "session_example = tf.Session(graph = graph_example)\n",
    "\n",
    "# evaluate the tensor, but get a ERROR. Since the tensor_example is in the default graph, but the session_example is running graph_example\n",
    "\n",
    "session_example.run(tensor_example)\n",
    "# out: RuntimeError: The Session graph is empty.  Add operations to the graph before calling run()."
   ]
  },
  {
   "cell_type": "code",
   "execution_count": null,
   "metadata": {
    "collapsed": true
   },
   "outputs": [],
   "source": [
    "# add operations to graph_example, using run() or eval() method.\n",
    "with graph_example.as_default():\n",
    "    tensor_with_in_graph_1 = tf.constant(8.0)\n",
    "    tensor_with_in_graph_2 = tf.constant(3.0)\n",
    "    tensor_sums = tf.add(tensor_with_in_graph_1, tensor_with_in_graph_2)\n",
    "    print session_example.run(tensor_sums)\n",
    "    tensor_sums.eval(session = session_example)\n",
    "out: \n",
    "11.0\n",
    "11.0 \n",
    "\n",
    "print graph_example\n",
    "# out: <tensorflow.python.framework.ops.Graph object at 0x2607b10>"
   ]
  },
  {
   "cell_type": "code",
   "execution_count": null,
   "metadata": {
    "collapsed": true
   },
   "outputs": [],
   "source": [
    "# list all the operations in graph_example\n",
    "print graph_example.get_operations()\n",
    "# out: [<tf.Operation 'Const' type=Const>, <tf.Operation 'Const_1' type=Const>, <tf.Operation 'Add' type=Add>]\n",
    "print graph_example.version\n",
    "# out: 3\n",
    "\n",
    "# close the session\n",
    "session_example.close()"
   ]
  },
  {
   "cell_type": "code",
   "execution_count": null,
   "metadata": {
    "collapsed": true
   },
   "outputs": [],
   "source": [
    "# start a new interactive session\n",
    "interactive_session_example = tf.InteractiveSession()\n",
    "\n",
    "interactive_tensor_example = tf.constant([7.0, 8.0, 9.0, 10.0], shape=[2, 2])\n",
    "\n",
    "# Since the session is interactive, we can call eval() directly\n",
    "print interactive_tensor_example.eval()\n",
    "# out: [[  7.   8.]\n",
    "        [  9.  10.]]"
   ]
  },
  {
   "cell_type": "code",
   "execution_count": null,
   "metadata": {
    "collapsed": true
   },
   "outputs": [],
   "source": [
    "# Use tf.shape to explicitly get the shape\n",
    "tf.shape(interactive_tensor_example).eval()\n",
    "# out: array([2, 2], dtype=int32)"
   ]
  }
 ],
 "metadata": {
  "kernelspec": {
   "display_name": "Python 2",
   "language": "python",
   "name": "python2"
  },
  "language_info": {
   "codemirror_mode": {
    "name": "ipython",
    "version": 2
   },
   "file_extension": ".py",
   "mimetype": "text/x-python",
   "name": "python",
   "nbconvert_exporter": "python",
   "pygments_lexer": "ipython2",
   "version": "2.7.11"
  }
 },
 "nbformat": 4,
 "nbformat_minor": 0
}
