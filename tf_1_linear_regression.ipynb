{
 "cells": [
  {
   "cell_type": "code",
   "execution_count": 1,
   "metadata": {
    "collapsed": true
   },
   "outputs": [],
   "source": [
    "%matplotlib inline\n",
    "import tensorflow as tf\n",
    "import numpy as np\n",
    "import matplotlib.pyplot as plt"
   ]
  },
  {
   "cell_type": "code",
   "execution_count": 2,
   "metadata": {},
   "outputs": [
    {
     "name": "stdout",
     "output_type": "stream",
     "text": [
      "x_dummy shape:(100,), y_dummy shape:(100,)\n"
     ]
    }
   ],
   "source": [
    "# dummy training data\n",
    "\n",
    "n_samples = 100\n",
    "x_dummy = np.linspace(-3, 3, n_samples)\n",
    "\n",
    "# linear function\n",
    "y_dummy = 3 * x_dummy + 5 + np.random.uniform(-5, 5, n_samples) # with random noise\n",
    "\n",
    "# cos() function\n",
    "# y_dummy = np.cos(x_dummy) + np.random.uniform(-3, 3, n_samples)\n",
    "\n",
    "print('x_dummy shape:{}, y_dummy shape:{}'.format(x_dummy.shape, y_dummy.shape))"
   ]
  },
  {
   "cell_type": "code",
   "execution_count": 3,
   "metadata": {
    "collapsed": true
   },
   "outputs": [],
   "source": [
    "# two version placeholders\n",
    "\n",
    "with tf.name_scope(name='input_data'):\n",
    "    # ORIGINAL version: without shape\n",
    "    X = tf.placeholder(dtype=tf.float32, name='input_X')\n",
    "    Y = tf.placeholder(dtype=tf.float32, name='input_y')\n",
    "\n",
    "    # SHAPE version: each input has the explicit shape\n",
    "    # X = tf.placeholder(dtype=tf.float32, shape=[None, 1], name='input_X')\n",
    "    # Y = tf.placeholder(dtype=tf.float32, shape=[None, 1], name='input_y')"
   ]
  },
  {
   "cell_type": "code",
   "execution_count": 4,
   "metadata": {
    "collapsed": true
   },
   "outputs": [],
   "source": [
    "# score function\n",
    "\n",
    "with tf.name_scope(name='score_func'):\n",
    "    # linear regression\n",
    "    W = tf.Variable(initial_value=tf.random_normal(shape=[1], mean=0.0, stddev=1.0), name='weight')\n",
    "    b = tf.Variable(initial_value=tf.random_normal(shape=[1], mean=0.0, stddev=1.0), name='bias')\n",
    "    Y_pred = tf.add(tf.multiply(X, W), b, name='y_pred')\n",
    "\n",
    "    # polynomial regression\n",
    "    # Y_pred = tf.Variable(tf.random_normal(shape=[1]), name='y_pred')\n",
    "    # for pow_i in range(1, 6):\n",
    "    #    W = tf.Variable(tf.random_normal(shape=[1]), name='weight_%d' % pow_i)\n",
    "    #    Y_pred = tf.add(tf.multiply(tf.pow(X, pow_i), W), Y_pred)"
   ]
  },
  {
   "cell_type": "code",
   "execution_count": 5,
   "metadata": {},
   "outputs": [],
   "source": [
    "# loss function\n",
    "\n",
    "with tf.name_scope(name='loss_func'):\n",
    "    # mean squared error loss\n",
    "    # reduce_mean == reduce_sum / number_of_element\n",
    "    # tf.pow(a - b, 2) == tf.squared_difference(a, b). \n",
    "    #loss = tf.reduce_mean(tf.squared_difference(Y_pred, Y))\n",
    "    loss = tf.reduce_sum(tf.pow(Y_pred - Y, 2)) / n_samples\n",
    "\n",
    "\n",
    "    # parameters = tf.trainable_variables()\n",
    "    # loss = tf.add(loss, tf.multiply(1e-6, tf.reduce_sum(tf.square(parameters)))) # L2 norm, ridge regression\n",
    "    # loss = tf.add(loss, tf.multiply(1e-6, tf.reduce_sum(tf.abs(parameters)))) # L1 norm, lasso regression\n",
    "\n",
    "\n",
    "# Huber loss\n",
    "def huber_loss(true_labels, predictions, delta=1.0):\n",
    "    residual = tf.abs(true_labels - predictions)\n",
    "    condition = tf.less(residual, delta)\n",
    "    small_res = 0.5 * tf.square(residual)\n",
    "    large_res = delta * residual - 0.4 * tf.square(delta)\n",
    "    return tf.where(condition, small_res, large_res)\n",
    "# loss = tf.reduce_sum(huber_loss(Y, Y_pred)) / 2*n_samples"
   ]
  },
  {
   "cell_type": "code",
   "execution_count": 6,
   "metadata": {
    "collapsed": true
   },
   "outputs": [],
   "source": [
    "# optimization\n",
    "with tf.name_scope(name='optimization'):\n",
    "    optimizer = tf.train.RMSPropOptimizer(learning_rate=0.01).minimize(loss)\n",
    "    #optimizer = tf.train.GradientDescentOptimizer(learning_rate=0.00001).minimize(loss)    "
   ]
  },
  {
   "cell_type": "code",
   "execution_count": 7,
   "metadata": {},
   "outputs": [
    {
     "name": "stdout",
     "output_type": "stream",
     "text": [
      "loss:51.26797866821289\n",
      "loss:36.43244934082031\n",
      "loss:25.151464462280273\n",
      "loss:17.169801712036133\n",
      "loss:12.093806266784668\n",
      "loss:9.324257850646973\n",
      "loss:8.055170059204102\n",
      "loss:7.527552604675293\n",
      "loss:7.300674915313721\n",
      "loss:7.1927947998046875\n"
     ]
    },
    {
     "data": {
      "image/png": "[encoded data removed]",
      "text/plain": [
       "<matplotlib.figure.Figure at 0x1dfb9b36e10>"
      ]
     },
     "metadata": {},
     "output_type": "display_data"
    }
   ],
   "source": [
    "# run\n",
    "with tf.Session() as sess:\n",
    "    writer = tf.summary.FileWriter(logdir='./graphs', graph=sess.graph)\n",
    "    \n",
    "    sess.run(tf.global_variables_initializer())\n",
    "    \n",
    "    for _ in range(10):\n",
    "        for (x, y) in zip(x_dummy, y_dummy):\n",
    "            sess.run(optimizer, feed_dict={X:x, Y:y})            \n",
    "            # SHAPE version\n",
    "            # sess.run(optimizer, feed_dict={X:x.reshape((1, 1)), Y:y.reshape((1, 1))})\n",
    "        \n",
    "        tmp_loss = sess.run(loss, feed_dict={X:x_dummy, Y:y_dummy})\n",
    "        # SHAPE version\n",
    "        # tmp_loss = sess.run(loss, feed_dict={X:x_dummy.reshape((100,1)), Y:y_dummy.reshape((100,1))})\n",
    "        \n",
    "        print('loss:{}'.format(tmp_loss))\n",
    "        \n",
    "    plt.scatter(x_dummy, y_dummy, marker='o', c='r', linewidths=1)    \n",
    "    plt.plot(x_dummy, Y_pred.eval(feed_dict={X:x_dummy}), 'g')\n",
    "\n",
    "    # SHAPE version\n",
    "    # plt.plot(x_dummy, Y_pred.eval(feed_dict={X:x_dummy.reshape((100,1))}), 'g')\n",
    "writer.close()"
   ]
  },
  {
   "cell_type": "code",
   "execution_count": null,
   "metadata": {
    "collapsed": true
   },
   "outputs": [],
   "source": []
  }
 ],
 "metadata": {
  "kernelspec": {
   "display_name": "Python 3",
   "language": "python",
   "name": "python3"
  },
  "language_info": {
   "codemirror_mode": {
    "name": "ipython",
    "version": 3
   },
   "file_extension": ".py",
   "mimetype": "text/x-python",
   "name": "python",
   "nbconvert_exporter": "python",
   "pygments_lexer": "ipython3",
   "version": "3.5.3"
  }
 },
 "nbformat": 4,
 "nbformat_minor": 2
}
